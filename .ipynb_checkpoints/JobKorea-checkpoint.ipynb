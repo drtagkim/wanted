{
 "metadata": {
  "name": ""
 },
 "nbformat": 3,
 "nbformat_minor": 0,
 "worksheets": [
  {
   "cells": [
    {
     "cell_type": "heading",
     "level": 1,
     "metadata": {},
     "source": [
      "\uc18c\uac1c"
     ]
    },
    {
     "cell_type": "raw",
     "metadata": {},
     "source": [
      "\uc7a1\ucf54\ub9ac\uc544 API\ub97c \ub9cc\ub4dc\ub824\uace0 \ud568\n",
      "\uc218\uc6d0\ub300\ud559\uad50 \uacbd\uc601\ub300\ud559 \uc870\uad50\uc218 \uae40\ud0dc\uacbd"
     ]
    },
    {
     "cell_type": "heading",
     "level": 1,
     "metadata": {},
     "source": [
      "\ubaa8\ub4c8 \uac1c\ubc1c \uc815\ubcf4"
     ]
    },
    {
     "cell_type": "heading",
     "level": 2,
     "metadata": {},
     "source": [
      "JobKorea \uac80\uc0c9 \uae30\ub2a5 \ud65c\uc6a9\ud558\uae30"
     ]
    },
    {
     "cell_type": "raw",
     "metadata": {},
     "source": [
      "**\ucc44\uc6a9\uc744 \ud558\ub294 \uc785\uc7a5**\n",
      "\n",
      "\uae30\uc5c5\ud615\ud0dc: \ub300\uae30\uc5c5 : http://www.jobkorea.co.kr/Recruit/Search/Detail?Oem_Code=C1&Mem_Type_Code=&pay_type_code=1&ctype=/3&schstat=1\n",
      "  : \ub300\uae30\uc5c5 \uacc4\uc5f4\uc0ac: http://www.jobkorea.co.kr/Recruit/Search/Detail?Oem_Code=C1&Mem_Type_Code=&pay_type_code=1&ctype=/4&schstat=1\n",
      "       : \uc911\uc18c\uae30\uc5c5: http://www.jobkorea.co.kr/Recruit/Search/Detail?Oem_Code=C1&Mem_Type_Code=&pay_type_code=1&ctype=/1&schstat=1\n",
      "         \uc911\uacac\uae30\uc5c5: http://www.jobkorea.co.kr/Recruit/Search/Detail?Oem_Code=C1&Mem_Type_Code=&pay_type_code=1&ctype=/2&schstat=1\n",
      "        \ubca4\ucc98\uae30\uc5c5 : http://www.jobkorea.co.kr/Recruit/Search/Detail?Oem_Code=C1&Mem_Type_Code=&pay_type_code=1&ctype=/5&schstat=1\n",
      "     \uc678\uad6d\ud22c\uc790\uae30\uc5c5: http://www.jobkorea.co.kr/Recruit/Search/Detail?Oem_Code=C1&Mem_Type_Code=&pay_type_code=1&ctype=/6&schstat=1\n",
      "     \uc678\uad6d\ubc95\uc778\uae30\uc5c5: http://www.jobkorea.co.kr/Recruit/Search/Detail?Oem_Code=C1&Mem_Type_Code=&pay_type_code=1&ctype=/8&schstat=1\n",
      "    \uad6d\ub0b4\uacf5\uacf5\uae30\uad00 : http://www.jobkorea.co.kr/Recruit/Search/Detail?Oem_Code=C1&Mem_Type_Code=&pay_type_code=1&ctype=/7&schstat=1\n",
      "      \uad6d\ub0b4\ube44\uc601\ub9ac : http://www.jobkorea.co.kr/Recruit/Search/Detail?Oem_Code=C1&Mem_Type_Code=&pay_type_code=1&ctype=/9&schstat=1\n",
      "  \uc678\uad6d\uae30\uad00\ube44\uc601\ub9ac : http://www.jobkorea.co.kr/Recruit/Search/Detail?Oem_Code=C1&Mem_Type_Code=&pay_type_code=1&ctype=/10&schstat=1\n",
      "\n",
      "Mem_Type_Code=C : \ucc44\uc6a9\n",
      "Mem_Type_Code=H : \ud30c\uacac\n",
      "Mem_Type_Code=S : \ud5e4\ub4dc\ud5cc\ud305\n"
     ]
    },
    {
     "cell_type": "raw",
     "metadata": {},
     "source": [
      "\uc678\uad6d\uae30\uad00\ube44\uc601\ub9ac\uc758 \uacbd\uc6b0: http://www.jobkorea.co.kr/Recruit/Search/detail?Oem_Code=C1&schstat=1&ctype=/10&rListTypeTab=&rOrderTab=&rJobTypeTab=&psTab=20&rlistTab=&rlistCareerChk=&rlistPayChk=&Page=1#JobList\n",
      "http://www.jobkorea.co.kr/Recruit/Search/detail?Oem_Code=C1&schstat=1&ctype=/10&psTab=50&Page=1#JobList\n",
      "1. psTab : \ud55c \ud398\uc774\uc9c0\uc5d0 \ud45c\uc2dc\ud558\ub294 \uc544\uc774\ud15c\uc758 \uc22b\uc790\n",
      "2. ctype : \uae30\uc5c5 \uc885\ub958\n",
      "3. Page : pagination\n",
      "\n",
      "\ucc44\uc6a9 \uc815\ubcf4 \ud14c\uc774\ube14 \uac80\uc0c9\n",
      "<div class=\"lgiSec lgiTplList lgiListNormal\">\n",
      "    "
     ]
    },
    {
     "cell_type": "heading",
     "level": 1,
     "metadata": {},
     "source": [
      "\uac1c\ubc1c"
     ]
    },
    {
     "cell_type": "code",
     "collapsed": false,
     "input": [
      "import requests\n",
      "from bs4 import BeautifulSoup as BS\n",
      "from pymongo import MongoClient\n",
      "from IPython.display import Image"
     ],
     "language": "python",
     "metadata": {},
     "outputs": [],
     "prompt_number": 1
    },
    {
     "cell_type": "code",
     "collapsed": false,
     "input": [
      "import re"
     ],
     "language": "python",
     "metadata": {},
     "outputs": [],
     "prompt_number": 85
    },
    {
     "cell_type": "code",
     "collapsed": false,
     "input": [
      "job_korea_url = \"http://www.jobkorea.co.kr\""
     ],
     "language": "python",
     "metadata": {},
     "outputs": [],
     "prompt_number": 2
    },
    {
     "cell_type": "heading",
     "level": 2,
     "metadata": {},
     "source": [
      "\ucc44\uc6a9\uc815\ubcf4"
     ]
    },
    {
     "cell_type": "raw",
     "metadata": {},
     "source": [
      "6\uac1c\uc758 td\ub85c \uad6c\uc131\n",
      "1. \ud68c\uc0ac\uba85\n",
      "2. \ucc44\uc6a9\ubaa9\ub85d\n",
      "3. \uc9c0\uc6d0\uc790\uaca9\n",
      "4. \uadfc\ubb34\uc870\uac74\n",
      "5. \ub4f1\ub85d\uc77c\n",
      "6. \ub9c8\uac10\uc77c\n",
      "\n",
      "\ud68c\uc0ac\uba85: http://www.jobkorea.co.kr/Recruit/Co_Read/C/embajada?Oem_Code=C1\n",
      "<a href=\"/Recruit/Co_Read/C/embajada?Oem_Code=C1\" onclick=\"javascript:GIInfoReadOem('C', 'embajada', 'C1');GI_Click_Cnt('SL','B01');return false;\" class=\"emp1 \">Embassy of Spain</a>\n",
      "\uc790\ubc14 \uc2a4\ud06c\ub9bd\ud2b8\ub294 \ud1b5\uacc4\ucc98\ub9ac \ubaa9\uc801\uc778 \ub4ef \ubcf4\uc774\uc624.\n",
      "a.emp1\n",
      "\n",
      "items[0]\uc740 th \uc5f4\uc774\ub77c \uc758\ubbf8 \uc5c6\uace0 \ub450 \ubc88\uc9f8\ubd80\ud130 \uac04\ub2e4.\n"
     ]
    },
    {
     "cell_type": "code",
     "collapsed": false,
     "input": [
      "# \ucc44\uc6a9\uc815\ubcf4 \ubd84\uc11d\n",
      "def getInfoItem(in_item):\n",
      "        out_item = {}\n",
      "        try:    \n",
      "            out_item['comp_info_url'] = \"%s%s\"%(job_korea_url,in_item.select(\"a.emp1\")[0].attrs['href']) # title\n",
      "            out_item['comp_name'] = in_item.select(\"a.emp1\")[0].text\n",
      "            out_item['recruit_doc_url'] = \"%s%s\"%(job_korea_url,in_item.select(\"a.emp1\")[1].attrs['href'])\n",
      "            out_item['recruit_doc_title'] = in_item.select(\"a.emp1\")[1].text\n",
      "            out_item['desc_short'] = in_item.select(\"p.txtDesc\")[0].text\n",
      "            out_item['apply_condition'] = in_item('td')[2].next.strip()\n",
      "            out_item['apply_schooling'] = in_item('td')[2].next.next.text.strip()\n",
      "            out_item['work_conditions'] = [i.text.strip() for i in in_item('td')[3].select('span.txt')]\n",
      "        except Exception:\n",
      "            print \"Error\"\n",
      "        return out_item"
     ],
     "language": "python",
     "metadata": {},
     "outputs": [],
     "prompt_number": 142
    },
    {
     "cell_type": "heading",
     "level": 3,
     "metadata": {},
     "source": [
      "\ud14c\uc2a4\ud2b8"
     ]
    },
    {
     "cell_type": "code",
     "collapsed": false,
     "input": [
      "test_url = \"http://www.jobkorea.co.kr/Recruit/Search/detail?Oem_Code=C1&schstat=1&ctype=/10&psTab=50&Page=1#JobList\"\n",
      "# URL\uc5d0\uc11c \ub370\uc774\ud130 \uc694\uccad\n",
      "r = requests.get(test_url)"
     ],
     "language": "python",
     "metadata": {},
     "outputs": [],
     "prompt_number": 3
    },
    {
     "cell_type": "code",
     "collapsed": false,
     "input": [
      "# \uac1d\uccb4 \uc804\ud658\n",
      "soup = BS(r.text)\n",
      "# \ud14c\uc774\ube14\uc758 \ub9ac\uc2a4\ud2b8 \uac00\uc838\uc634 -> \uc544\uc774\ud15c \ucd94\ucd9c\n",
      "eles = soup.select(\"div.lgiTplList\")\n",
      "items = eles[0](\"tr\")"
     ],
     "language": "python",
     "metadata": {},
     "outputs": [],
     "prompt_number": 4
    },
    {
     "cell_type": "code",
     "collapsed": false,
     "input": [
      "a = getInfoItem(items[2])"
     ],
     "language": "python",
     "metadata": {},
     "outputs": [],
     "prompt_number": 143
    },
    {
     "cell_type": "heading",
     "level": 2,
     "metadata": {},
     "source": [
      "MongoDB Test"
     ]
    },
    {
     "cell_type": "code",
     "collapsed": false,
     "input": [
      "client = MongoClient()"
     ],
     "language": "python",
     "metadata": {},
     "outputs": [],
     "prompt_number": 132
    },
    {
     "cell_type": "code",
     "collapsed": false,
     "input": [
      "db = client['test_database']"
     ],
     "language": "python",
     "metadata": {},
     "outputs": [],
     "prompt_number": 133
    },
    {
     "cell_type": "code",
     "collapsed": false,
     "input": [
      "collection = db['test_collection']"
     ],
     "language": "python",
     "metadata": {},
     "outputs": [],
     "prompt_number": 136
    },
    {
     "cell_type": "code",
     "collapsed": false,
     "input": [
      "collection.insert(a)"
     ],
     "language": "python",
     "metadata": {},
     "outputs": [
      {
       "metadata": {},
       "output_type": "pyout",
       "prompt_number": 144,
       "text": [
        "ObjectId('54d4315e078b032710bcafdd')"
       ]
      }
     ],
     "prompt_number": 144
    },
    {
     "cell_type": "code",
     "collapsed": false,
     "input": [
      "client.disconnect()"
     ],
     "language": "python",
     "metadata": {},
     "outputs": [],
     "prompt_number": 145
    },
    {
     "cell_type": "heading",
     "level": 1,
     "metadata": {},
     "source": [
      "Jon Applications \uc815\ubcf4 \uac00\uc838\uc624\uae30"
     ]
    },
    {
     "cell_type": "raw",
     "metadata": {},
     "source": [
      "\uc9c1\uc5c5\uc744 \uc6d0\ud55c\ub2e4\uace0 \uc62c\ub824\ub454 \uc77c\ubc18\uc778\ub4e4\uc758 \uc815\ubcf4\ub97c \uac00\uc838\uc640\uc11c dictionary\ub85c \uc800\uc7a5\n",
      "\uc800\uc7a5\ub41c \ub370\uc774\ud130\ub294 JSON\uc73c\ub85c \ubc14\uafb8\uae30 \uc27d\ub3c4\ub85d...\n",
      "\ub370\uc774\ud130\ub294 MongoDB\ub85c \ub4e4\uc5b4\uac00\ub294 \uac83\uc744 \uc6d0\uce59\uc73c\ub85c \ud55c\ub2e4.\n",
      "\n",
      "\ub370\uc774\ud130\ub97c \uc77c\ubd80 \uac00\uc838\uc640\uc11c \ud14c\uc2a4\ud2b8\ub97c \uc880 \ud574\ubcf4\uc790.\n",
      "\n",
      "\uac1c\ubc1c \uc911\uc778 \ucf54\ub4dc\uac00 \uc5b4\ub290 \uc815\ub3c4 \ubaa8\uc774\uba74 jobkorea.py\ub85c \ubb36\ub294\ub2e4."
     ]
    },
    {
     "cell_type": "heading",
     "level": 2,
     "metadata": {},
     "source": [
      "URL Call \uc5bb\uae30 \uc704\ud55c \uc2e4\ud5d8"
     ]
    },
    {
     "cell_type": "raw",
     "metadata": {},
     "source": [
      "http://www.jobkorea.co.kr/List_GG/GG_ADV_Search_List.asp?page=1&add_condition=1&part_no=&BigPart_Sel=&area_code=&AA_Sel=&Area_1_Sel=&Edu_Sel=-1&Edu_Radio_Sel=&Edu_CheckBox_Sel=&Career_1_Sel=-1&Career_2_Sel=-1&Career_CName_Sel=&Language_1_Sel=&langL_1_1=&Language_1_Point_Sel=0&testScore_1_Sel=&Language_2_Sel=&langL_2_1=&Language_2_Point_Sel=0&testScore_2_Sel=&License1_1_Sel=&License1_2_Sel=&License1_3_Sel=&License2_1_Sel=&License2_2_Sel=&License2_3_Sel=&Training1_C1_Sel=&Training1_C2_Sel=&Training2_C1_Sel=&Training2_C2_Sel=&GG_Gender=&Born_1_Sel=0&Born_2_Sel=0&Pay_1_Sel=&GG_Job_Type=&Kwd_Sel=&Con_Dis=1&Chk_Premium=&Chk_Training=&Chk_Computer=&Chk_Handicap=&Chk_Veteran=&Chk_Military=&rSort=1&rCareerTab=1#ListTop\n",
      "\n",
      "\uc904\uc774\uba74...\n",
      "http://www.jobkorea.co.kr/List_GG/GG_ADV_Search_List.asp?page=1&add_condition=1&Edu_Sel=-1&Career_1_Sel=-1&Career_2_Sel=-1&Language_1_Point_Sel=0&Language_2_Point_Sel=0&Born_1_Sel=0&Born_2_Sel=0&rSort=1&rCareerTab=1#ListTop\n",
      "\n",
      "\uc778\uc6d0:  294,568\n",
      "\n",
      "ps=50 \n",
      "\n",
      "http://www.jobkorea.co.kr/List_GG/GG_ADV_Search_List.asp?page=1&ps=50&add_condition=1&Edu_Sel=-1&Career_1_Sel=-1&Career_2_Sel=-1&Language_1_Point_Sel=0&Language_2_Point_Sel=0&Born_1_Sel=0&Born_2_Sel=0&rSort=1&rCareerTab=1#ListTop\n",
      "\n",
      "5892\n",
      "\n",
      "http://www.jobkorea.co.kr/List_GG/GG_ADV_Search_List.asp?page=5892&ps=50&add_condition=1&Edu_Sel=-1&Career_1_Sel=-1&Career_2_Sel=-1&Language_1_Point_Sel=0&Language_2_Point_Sel=0&Born_1_Sel=0&Born_2_Sel=0&rSort=1&rCareerTab=1#ListTop\n",
      "\n",
      "\uc804\uccb4 \ub9ac\uc2a4\ud2b8\ub97c \ud68d\ub4dd\ud560 \uc218 \uc788\ub2e4.\n",
      "\n",
      "\ub9c8\ucc2c\uac00\uc9c0\ub85c \ub2e4 \uc62c\ub77c\uc628\ub2e4.\n",
      "http://www.jobkorea.co.kr/List_GG/GG_ADV_Search_List.asp?page=5892&ps=50#ListTop\n",
      "\n",
      "\uc2e4\ud5d8 \uacb0\uacfc \ub2e4\uc74c\uacfc \uac19\uc774 Calling:\n",
      "http://www.jobkorea.co.kr/List_GG/GG_ADV_Search_List.asp?page=&ps=50#ListTop\n",
      "http://www.jobkorea.co.kr/List_GG/GG_ADV_Search_List.asp?page=1&ps=50#ListTop"
     ]
    },
    {
     "cell_type": "code",
     "collapsed": false,
     "input": [
      "test_url = \"http://www.jobkorea.co.kr/List_GG/GG_ADV_Search_List.asp?page=1&ps=50#ListTop\"\n",
      "page = requests.get(test_url)"
     ],
     "language": "python",
     "metadata": {},
     "outputs": [],
     "prompt_number": 3
    },
    {
     "cell_type": "code",
     "collapsed": false,
     "input": [
      "page.encoding = 'euc-kr'"
     ],
     "language": "python",
     "metadata": {},
     "outputs": [],
     "prompt_number": 79
    },
    {
     "cell_type": "code",
     "collapsed": false,
     "input": [
      "soup = BS(page.text,\"html.parser\")"
     ],
     "language": "python",
     "metadata": {},
     "outputs": [],
     "prompt_number": 80
    },
    {
     "cell_type": "heading",
     "level": 2,
     "metadata": {},
     "source": [
      "Item \uc815\ubcf4\ub97c \uc5bb\uae30 \uc704\ud55c \uc2e4\ud5d8"
     ]
    },
    {
     "cell_type": "raw",
     "metadata": {},
     "source": [
      "\u2463 \ucf58\ud150\uce20\uc758 \uc774\uc6a9\uc870\uac74 : \uc774\uc6a9\uc57d\uad00 \ubc0f \uc11c\ube44\uc2a4 \uc548\ub0b4 \ucc38\uc870 (\ub3d9\uc758\uc5c6\uc774 \ubb34\ub2e8\ubcf5\uc81c \ubc0f \uac00\uacf5\uc744 \uae08\ud568)\n",
      "\ub098\uc911\uc5d0 \ubb38\uc81c\uac00 \ub420 \uc218\ub3c4 \uc788\uc744\uae4c?\n",
      "\n",
      "\n",
      "table.GGList \uc544\ub798\uc758 tr\uc5d0 \ub370\uc774\ud130 \uc788\uc9c0\ub9cc \ubaa8\ub4e0 \uac83\uc774 \ub370\uc774\ud130\ub294 \uc544\ub2c8\ub2e4.\n",
      "\uadf8 \uc544\ub798 td\uac00 5\uac1c\uc529 \uc788\ub294 \uac83\uc774 \ub370\uc774\ud130, \uadf8\ub807\uc9c0 \uc54a\uc73c\uba74 \ub370\uc774\ud130\uac00 \uc544\ub2c8\ub2e4.\n",
      "\ub2e4\uc74c \uc21c\uc218\ub300\ub85c td\uc758 \ub370\uc774\ud130\n",
      "[td=1] td.age\ub85c \ub370\uc774\ud130 \ucc3e\uc544 \ud14d\uc2a4\ud2b8 -> \ub0a8/\ub140(\ud55c\uc790) \ub098\uc774 :: td.age span \uc758 title \uc18d\uc131 = 1974\ub144\uc0dd\n",
      "\n"
     ]
    },
    {
     "cell_type": "code",
     "collapsed": false,
     "input": [
      "table_origin = soup.select(\"table.GGList > tr\")"
     ],
     "language": "python",
     "metadata": {},
     "outputs": [],
     "prompt_number": 81
    },
    {
     "cell_type": "code",
     "collapsed": false,
     "input": [
      "table_data = [table_origin[i] for i in range(0, 100, 2)]"
     ],
     "language": "python",
     "metadata": {},
     "outputs": [],
     "prompt_number": 82
    },
    {
     "cell_type": "code",
     "collapsed": false,
     "input": [
      "sample = table_data[0]"
     ],
     "language": "python",
     "metadata": {},
     "outputs": [],
     "prompt_number": 83
    },
    {
     "cell_type": "code",
     "collapsed": false,
     "input": [
      "year_of_birth = re.findall('[0-9]{4}',sample.select(\"td.age span\")[0]['title'])[0]"
     ],
     "language": "python",
     "metadata": {},
     "outputs": [],
     "prompt_number": 86
    },
    {
     "cell_type": "code",
     "collapsed": false,
     "input": [
      "gender = re.findall('[^0-9 ()]+',sample.select(\"td.age\")[0].text)[0]"
     ],
     "language": "python",
     "metadata": {},
     "outputs": [],
     "prompt_number": 96
    },
    {
     "cell_type": "code",
     "collapsed": false,
     "input": [
      "print gender"
     ],
     "language": "python",
     "metadata": {},
     "outputs": [
      {
       "output_type": "stream",
       "stream": "stdout",
       "text": [
        "\u7537\u00a0\n"
       ]
      }
     ],
     "prompt_number": 97
    },
    {
     "cell_type": "raw",
     "metadata": {},
     "source": [
      "[td=2] td.title\ub85c \ucc3e\uc544 \ud558\ubd80\uc758 \uccab\ubc88\uc9f8 <a> \ucc3e\uc74c = \ubb34\uc2a8 \ubd84\uc57c \uac19\ub2e4. \uc5ec\uae30\uc758 \ud558\uc774\ud37c \ub9c1\ud06c\uac00 \uac1c\uc778 \uc815\ubcf4 \ucc3d\uc73c\ub85c \uc774\ub3d9\ud558\ub294 \uac83\n",
      "        /List_GG/GGB_Read.asp?R_No=8366127\n",
      "            R_No \ub4a4\uc758 \uac83\uc774 \uc544\uc774\ub514\uc778 \ub4ef\n",
      "            http://www.jobkorea.co.kr/List_GG/GGB_Read.asp?R_No=8366127\n",
      "\n",
      "       table.ability & width=\"100%\"\n",
      "            \ub300\ud559\uad50(4\ub144) \uc878\uc5c5 : OOO\ucc9c\ubb38\uc6b0\uc8fc\n",
      "            8\ub144 11\uac1c\uc6d4 \t\uacbd\ub825\uae30\uac04\uc774\ub2e4."
     ]
    },
    {
     "cell_type": "code",
     "collapsed": false,
     "input": [
      "sample.select('td.title > a')"
     ],
     "language": "python",
     "metadata": {},
     "outputs": [
      {
       "metadata": {},
       "output_type": "pyout",
       "prompt_number": 99,
       "text": [
        "[<a class=\"open_vst\" href=\"/List_GG/GGB_Read.asp?R_No=3614375\" title=\"\uac74\ucd95\uc758 \uc5f4\uc815\uc744 \ud5a5\ud558\uc5ec\">\uac74\ucd95\uc758 \uc5f4\uc815\uc744 \ud5a5\ud558\uc5ec</a>,\n",
        " <a href=\"/List_GG/GGB_Read.asp?R_No=3614375\" target=\"_blank\"><img alt=\"\uc0c8\ucc3d\ubcf4\uae30\" border=\"0\" height=\"11\" hspace=\"2\" src=\"/images/List_GG/icon_blank.gif\" width=\"11\"/></a>]"
       ]
      }
     ],
     "prompt_number": 99
    },
    {
     "cell_type": "code",
     "collapsed": false,
     "input": [
      "personal_info_url = \"%s%s\"%(job_korea_url,sample.select('td.title > a')[0]['href'])"
     ],
     "language": "python",
     "metadata": {},
     "outputs": [],
     "prompt_number": 100
    },
    {
     "cell_type": "code",
     "collapsed": false,
     "input": [
      "personal_info_url"
     ],
     "language": "python",
     "metadata": {},
     "outputs": [
      {
       "metadata": {},
       "output_type": "pyout",
       "prompt_number": 101,
       "text": [
        "u'http://www.jobkorea.co.kr/List_GG/GGB_Read.asp?R_No=3614375'"
       ]
      }
     ],
     "prompt_number": 101
    },
    {
     "cell_type": "code",
     "collapsed": false,
     "input": [
      "personal_id = re.findall(\"No=([0-9]+)\",personal_info_url)[0]\n",
      "personal_id"
     ],
     "language": "python",
     "metadata": {},
     "outputs": [
      {
       "metadata": {},
       "output_type": "pyout",
       "prompt_number": 103,
       "text": [
        "[u'3614375']"
       ]
      }
     ],
     "prompt_number": 103
    },
    {
     "cell_type": "code",
     "collapsed": false,
     "input": [
      "resources = [s.text.strip() for s in sample.select(\"table.ability a.open_vst\")]"
     ],
     "language": "python",
     "metadata": {},
     "outputs": [],
     "prompt_number": 127
    },
    {
     "cell_type": "code",
     "collapsed": false,
     "input": [
      "print resources[2]"
     ],
     "language": "python",
     "metadata": {},
     "outputs": [
      {
       "output_type": "stream",
       "stream": "stdout",
       "text": [
        "5\ub144 4\uac1c\uc6d4\n"
       ]
      }
     ],
     "prompt_number": 128
    },
    {
     "cell_type": "raw",
     "metadata": {},
     "source": [
      "[td=3] td.area \"\uc804\uad6d\" \uc5ec\ub7ec \uc544\uc774\ud15c\uc774 <br> \ud0dc\uadf8\ub97c \ub07c\uace0 \ubb36\uc77c \uc218\ub3c4 \uc788\ub2e4.\n",
      "       td.salary \"\uba74\uc811 \ud6c4 \uacb0\uc815\""
     ]
    },
    {
     "cell_type": "code",
     "collapsed": false,
     "input": [
      "place_of_work = sample.select('td.area')[0].text"
     ],
     "language": "python",
     "metadata": {},
     "outputs": [],
     "prompt_number": 133
    },
    {
     "cell_type": "code",
     "collapsed": false,
     "input": [
      "salary = sample.select(\"span.salary_sum\")[0].text"
     ],
     "language": "python",
     "metadata": {},
     "outputs": [],
     "prompt_number": 141
    },
    {
     "cell_type": "raw",
     "metadata": {},
     "source": [
      "[td=4] td.more \ud14d\uc2a4\ud2b8 \ubc1b\ub294\ub2e4. \uc544\ub9c8 \uc5ed\ub7c9\uc778\ub4ef. \uc5ec\ub7ec \uc544\uc774\ud15c\uc774 \uc788\uc744 \uc218 \uc788\ub2e4. "
     ]
    },
    {
     "cell_type": "code",
     "collapsed": false,
     "input": [
      "abilities = \"\".join([s.text.strip() for s in sample.select('td.more td[align=\"left\"]')])"
     ],
     "language": "python",
     "metadata": {},
     "outputs": [],
     "prompt_number": 156
    },
    {
     "cell_type": "code",
     "collapsed": false,
     "input": [
      "print(abilities)"
     ],
     "language": "python",
     "metadata": {},
     "outputs": [
      {
       "output_type": "stream",
       "stream": "stdout",
       "text": [
        "\ud574\uc678\uc5f0\uc218- \ud544\ub9ac\ud540 (3\uac1c\uc6d4)- \uc601\uad6d (10\uac1c\uc6d4)\uc790\uaca9\uc99d-\uac74\ucd95\uae30\uc0ac-1\uc885 \ubcf4\ud1b5 \uc6b4\uc804\uba74\ud5c8-\uc804\uc0b0\uc751\uc6a9\uac74\ucd95\uc81c\ub3c4 \uae30\ub2a5\uc0ac(CAD)\n"
       ]
      }
     ],
     "prompt_number": 158
    },
    {
     "cell_type": "raw",
     "metadata": {},
     "source": [
      "[td=5] <img src=\"/images/List_GG/ico_newResume.gif\"> \uc874\uc7ac\ud558\uba74 \ucd5c\uc2e0\uc774\ub825\uc11c\n",
      "       <img src=\"/images/List_GG/icon_phone.gif\"> \uc874\uc7ac\ud558\ub098\n",
      "       <img src=\"/images/List_GG/icon_mail.gif\"> \uc874\uc7ac\ud558\ub098\n",
      "       <img src=\"/images/List_GG/icon_mobile.gif\"> \uc874\uc7ac\ud558\ub098"
     ]
    },
    {
     "cell_type": "code",
     "collapsed": false,
     "input": [
      "is_newest_resume = len(sample.select('img[src=\"/images/List_GG/ico_newResume.gif\"]')) > 0"
     ],
     "language": "python",
     "metadata": {},
     "outputs": [],
     "prompt_number": 168
    },
    {
     "cell_type": "code",
     "collapsed": false,
     "input": [
      "has_phone = len(sample.select('img[src=\"/images/List_GG/icon_phone.gif\"]')) > 0"
     ],
     "language": "python",
     "metadata": {},
     "outputs": [],
     "prompt_number": 169
    },
    {
     "cell_type": "code",
     "collapsed": false,
     "input": [
      "has_email = len(sample.select('img[src=\"/images/List_GG/icon_mail.gif\"]')) > 0"
     ],
     "language": "python",
     "metadata": {},
     "outputs": [],
     "prompt_number": 170
    },
    {
     "cell_type": "code",
     "collapsed": false,
     "input": [
      "has_mobile = len(sample.select('img[src=\"/images/List_GG/icon_mobile.gif\"]')) > 0"
     ],
     "language": "python",
     "metadata": {},
     "outputs": [],
     "prompt_number": 171
    },
    {
     "cell_type": "heading",
     "level": 2,
     "metadata": {},
     "source": [
      "\uc138\ubd80 \uc815\ubcf4 \ud68d\ub4dd \uc2e4\ud5d8"
     ]
    },
    {
     "cell_type": "raw",
     "metadata": {},
     "source": [
      "\uc9c0\uc6d0\ubd84\uc57c \uc815\ubcf4: p.partCode \uc544\ub798 span.item \uc544\ub798 span a \ud14d\uc2a4\ud2b8\n",
      "\ud0a4\uc6cc\ub4dc: span.itemKeyword\n",
      "\uacbd\ub825: div.rsSecCareer h3 strong <- \ub144 \uc6d4\n",
      "      div.rsLimitedContent strong <- \uadfc\ubb34 \uad6c\uccb4 \uc0ac\ud56d"
     ]
    },
    {
     "cell_type": "code",
     "collapsed": false,
     "input": [
      "application_sample_url =\"http://www.jobkorea.co.kr/List_GG/GGB_Read.asp?R_No=3614375\""
     ],
     "language": "python",
     "metadata": {},
     "outputs": [],
     "prompt_number": 172
    },
    {
     "cell_type": "code",
     "collapsed": false,
     "input": [
      "r = requests.get(application_sample_url)\n",
      "r.encoding = \"euc-kr\"\n",
      "soup = BS(r.text,'html.parser')"
     ],
     "language": "python",
     "metadata": {},
     "outputs": [],
     "prompt_number": 192
    },
    {
     "cell_type": "code",
     "collapsed": false,
     "input": [
      "import sys  \n",
      "from PyQt4.QtGui import *  \n",
      "from PyQt4.QtCore import *  \n",
      "from PyQt4.QtWebKit import *  \n",
      "  \n",
      "class Render(QWebPage):  \n",
      "  def __init__(self, url):  \n",
      "    self.app = QApplication(sys.argv)  \n",
      "    QWebPage.__init__(self)  \n",
      "    self.loadFinished.connect(self._loadFinished)  \n",
      "    self.mainFrame().load(QUrl(url))  \n",
      "    self.app.exec_()  \n",
      "  \n",
      "  def _loadFinished(self, result):  \n",
      "    self.frame = self.mainFrame()  \n",
      "    self.app.quit()  "
     ],
     "language": "python",
     "metadata": {},
     "outputs": [
      {
       "ename": "ImportError",
       "evalue": "No module named PyQt4.QtGui",
       "output_type": "pyerr",
       "traceback": [
        "\u001b[1;31m---------------------------------------------------------------------------\u001b[0m\n\u001b[1;31mImportError\u001b[0m                               Traceback (most recent call last)",
        "\u001b[1;32m<ipython-input-208-e363f2caf59d>\u001b[0m in \u001b[0;36m<module>\u001b[1;34m()\u001b[0m\n\u001b[0;32m      1\u001b[0m \u001b[1;32mimport\u001b[0m \u001b[0msys\u001b[0m\u001b[1;33m\u001b[0m\u001b[0m\n\u001b[1;32m----> 2\u001b[1;33m \u001b[1;32mfrom\u001b[0m \u001b[0mPyQt4\u001b[0m\u001b[1;33m.\u001b[0m\u001b[0mQtGui\u001b[0m \u001b[1;32mimport\u001b[0m \u001b[1;33m*\u001b[0m\u001b[1;33m\u001b[0m\u001b[0m\n\u001b[0m\u001b[0;32m      3\u001b[0m \u001b[1;32mfrom\u001b[0m \u001b[0mPyQt4\u001b[0m\u001b[1;33m.\u001b[0m\u001b[0mQtCore\u001b[0m \u001b[1;32mimport\u001b[0m \u001b[1;33m*\u001b[0m\u001b[1;33m\u001b[0m\u001b[0m\n\u001b[0;32m      4\u001b[0m \u001b[1;32mfrom\u001b[0m \u001b[0mPyQt4\u001b[0m\u001b[1;33m.\u001b[0m\u001b[0mQtWebKit\u001b[0m \u001b[1;32mimport\u001b[0m \u001b[1;33m*\u001b[0m\u001b[1;33m\u001b[0m\u001b[0m\n\u001b[0;32m      5\u001b[0m \u001b[1;33m\u001b[0m\u001b[0m\n",
        "\u001b[1;31mImportError\u001b[0m: No module named PyQt4.QtGui"
       ]
      }
     ],
     "prompt_number": 208
    },
    {
     "cell_type": "code",
     "collapsed": false,
     "input": [],
     "language": "python",
     "metadata": {},
     "outputs": []
    }
   ],
   "metadata": {}
  }
 ]
}