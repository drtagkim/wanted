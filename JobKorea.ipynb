{
 "metadata": {
  "name": ""
 },
 "nbformat": 3,
 "nbformat_minor": 0,
 "worksheets": [
  {
   "cells": [
    {
     "cell_type": "heading",
     "level": 1,
     "metadata": {},
     "source": [
      "\uc18c\uac1c"
     ]
    },
    {
     "cell_type": "raw",
     "metadata": {},
     "source": [
      "\uc7a1\ucf54\ub9ac\uc544 API\ub97c \ub9cc\ub4dc\ub824\uace0 \ud568\n",
      "\uc218\uc6d0\ub300\ud559\uad50 \uacbd\uc601\ub300\ud559 \uc870\uad50\uc218 \uae40\ud0dc\uacbd"
     ]
    },
    {
     "cell_type": "heading",
     "level": 1,
     "metadata": {},
     "source": [
      "\ubaa8\ub4c8 \uac1c\ubc1c \uc815\ubcf4"
     ]
    },
    {
     "cell_type": "heading",
     "level": 2,
     "metadata": {},
     "source": [
      "JobKorea \uac80\uc0c9 \uae30\ub2a5 \ud65c\uc6a9\ud558\uae30"
     ]
    },
    {
     "cell_type": "raw",
     "metadata": {},
     "source": [
      "**\ucc44\uc6a9\uc744 \ud558\ub294 \uc785\uc7a5**\n",
      "\n",
      "\uae30\uc5c5\ud615\ud0dc: \ub300\uae30\uc5c5 : http://www.jobkorea.co.kr/Recruit/Search/Detail?Oem_Code=C1&Mem_Type_Code=&pay_type_code=1&ctype=/3&schstat=1\n",
      "  : \ub300\uae30\uc5c5 \uacc4\uc5f4\uc0ac: http://www.jobkorea.co.kr/Recruit/Search/Detail?Oem_Code=C1&Mem_Type_Code=&pay_type_code=1&ctype=/4&schstat=1\n",
      "       : \uc911\uc18c\uae30\uc5c5: http://www.jobkorea.co.kr/Recruit/Search/Detail?Oem_Code=C1&Mem_Type_Code=&pay_type_code=1&ctype=/1&schstat=1\n",
      "         \uc911\uacac\uae30\uc5c5: http://www.jobkorea.co.kr/Recruit/Search/Detail?Oem_Code=C1&Mem_Type_Code=&pay_type_code=1&ctype=/2&schstat=1\n",
      "        \ubca4\ucc98\uae30\uc5c5 : http://www.jobkorea.co.kr/Recruit/Search/Detail?Oem_Code=C1&Mem_Type_Code=&pay_type_code=1&ctype=/5&schstat=1\n",
      "     \uc678\uad6d\ud22c\uc790\uae30\uc5c5: http://www.jobkorea.co.kr/Recruit/Search/Detail?Oem_Code=C1&Mem_Type_Code=&pay_type_code=1&ctype=/6&schstat=1\n",
      "     \uc678\uad6d\ubc95\uc778\uae30\uc5c5: http://www.jobkorea.co.kr/Recruit/Search/Detail?Oem_Code=C1&Mem_Type_Code=&pay_type_code=1&ctype=/8&schstat=1\n",
      "    \uad6d\ub0b4\uacf5\uacf5\uae30\uad00 : http://www.jobkorea.co.kr/Recruit/Search/Detail?Oem_Code=C1&Mem_Type_Code=&pay_type_code=1&ctype=/7&schstat=1\n",
      "      \uad6d\ub0b4\ube44\uc601\ub9ac : http://www.jobkorea.co.kr/Recruit/Search/Detail?Oem_Code=C1&Mem_Type_Code=&pay_type_code=1&ctype=/9&schstat=1\n",
      "  \uc678\uad6d\uae30\uad00\ube44\uc601\ub9ac : http://www.jobkorea.co.kr/Recruit/Search/Detail?Oem_Code=C1&Mem_Type_Code=&pay_type_code=1&ctype=/10&schstat=1\n",
      "\n",
      "Mem_Type_Code=C : \ucc44\uc6a9\n",
      "Mem_Type_Code=H : \ud30c\uacac\n",
      "Mem_Type_Code=S : \ud5e4\ub4dc\ud5cc\ud305\n"
     ]
    },
    {
     "cell_type": "raw",
     "metadata": {},
     "source": [
      "\uc678\uad6d\uae30\uad00\ube44\uc601\ub9ac\uc758 \uacbd\uc6b0: http://www.jobkorea.co.kr/Recruit/Search/detail?Oem_Code=C1&schstat=1&ctype=/10&rListTypeTab=&rOrderTab=&rJobTypeTab=&psTab=20&rlistTab=&rlistCareerChk=&rlistPayChk=&Page=1#JobList\n",
      "http://www.jobkorea.co.kr/Recruit/Search/detail?Oem_Code=C1&schstat=1&ctype=/10&psTab=50&Page=1#JobList\n",
      "1. psTab : \ud55c \ud398\uc774\uc9c0\uc5d0 \ud45c\uc2dc\ud558\ub294 \uc544\uc774\ud15c\uc758 \uc22b\uc790\n",
      "2. ctype : \uae30\uc5c5 \uc885\ub958\n",
      "3. Page : pagination\n",
      "\n",
      "\ucc44\uc6a9 \uc815\ubcf4 \ud14c\uc774\ube14 \uac80\uc0c9\n",
      "<div class=\"lgiSec lgiTplList lgiListNormal\">\n",
      "    "
     ]
    },
    {
     "cell_type": "heading",
     "level": 1,
     "metadata": {},
     "source": [
      "\uac1c\ubc1c"
     ]
    },
    {
     "cell_type": "code",
     "collapsed": false,
     "input": [
      "import requests\n",
      "from bs4 import BeautifulSoup as BS\n",
      "from pymongo import MongoClient\n",
      "from IPython.display import Image"
     ],
     "language": "python",
     "metadata": {},
     "outputs": [],
     "prompt_number": 1
    },
    {
     "cell_type": "code",
     "collapsed": false,
     "input": [
      "job_korea_url = \"http://www.jobkorea.co.kr\""
     ],
     "language": "python",
     "metadata": {},
     "outputs": [],
     "prompt_number": 2
    },
    {
     "cell_type": "heading",
     "level": 2,
     "metadata": {},
     "source": [
      "\ucc44\uc6a9\uc815\ubcf4"
     ]
    },
    {
     "cell_type": "raw",
     "metadata": {},
     "source": [
      "6\uac1c\uc758 td\ub85c \uad6c\uc131\n",
      "1. \ud68c\uc0ac\uba85\n",
      "2. \ucc44\uc6a9\ubaa9\ub85d\n",
      "3. \uc9c0\uc6d0\uc790\uaca9\n",
      "4. \uadfc\ubb34\uc870\uac74\n",
      "5. \ub4f1\ub85d\uc77c\n",
      "6. \ub9c8\uac10\uc77c\n",
      "\n",
      "\ud68c\uc0ac\uba85: http://www.jobkorea.co.kr/Recruit/Co_Read/C/embajada?Oem_Code=C1\n",
      "<a href=\"/Recruit/Co_Read/C/embajada?Oem_Code=C1\" onclick=\"javascript:GIInfoReadOem('C', 'embajada', 'C1');GI_Click_Cnt('SL','B01');return false;\" class=\"emp1 \">Embassy of Spain</a>\n",
      "\uc790\ubc14 \uc2a4\ud06c\ub9bd\ud2b8\ub294 \ud1b5\uacc4\ucc98\ub9ac \ubaa9\uc801\uc778 \ub4ef \ubcf4\uc774\uc624.\n",
      "a.emp1\n",
      "\n",
      "items[0]\uc740 th \uc5f4\uc774\ub77c \uc758\ubbf8 \uc5c6\uace0 \ub450 \ubc88\uc9f8\ubd80\ud130 \uac04\ub2e4.\n"
     ]
    },
    {
     "cell_type": "code",
     "collapsed": false,
     "input": [
      "# \ucc44\uc6a9\uc815\ubcf4 \ubd84\uc11d\n",
      "def getInfoItem(in_item):\n",
      "        out_item = {}\n",
      "        try:    \n",
      "            out_item['comp_info_url'] = \"%s%s\"%(job_korea_url,in_item.select(\"a.emp1\")[0].attrs['href']) # title\n",
      "            out_item['comp_name'] = in_item.select(\"a.emp1\")[0].text\n",
      "            out_item['recruit_doc_url'] = \"%s%s\"%(job_korea_url,in_item.select(\"a.emp1\")[1].attrs['href'])\n",
      "            out_item['recruit_doc_title'] = in_item.select(\"a.emp1\")[1].text\n",
      "            out_item['desc_short'] = in_item.select(\"p.txtDesc\")[0].text\n",
      "            out_item['apply_condition'] = in_item('td')[2].next.strip()\n",
      "            out_item['apply_schooling'] = in_item('td')[2].next.next.text.strip()\n",
      "            out_item['work_conditions'] = [i.text.strip() for i in in_item('td')[3].select('span.txt')]\n",
      "        except Exception:\n",
      "            print \"Error\"\n",
      "        return out_item"
     ],
     "language": "python",
     "metadata": {},
     "outputs": [],
     "prompt_number": 142
    },
    {
     "cell_type": "heading",
     "level": 3,
     "metadata": {},
     "source": [
      "\ud14c\uc2a4\ud2b8"
     ]
    },
    {
     "cell_type": "code",
     "collapsed": false,
     "input": [
      "test_url = \"http://www.jobkorea.co.kr/Recruit/Search/detail?Oem_Code=C1&schstat=1&ctype=/10&psTab=50&Page=1#JobList\"\n",
      "# URL\uc5d0\uc11c \ub370\uc774\ud130 \uc694\uccad\n",
      "r = requests.get(test_url)"
     ],
     "language": "python",
     "metadata": {},
     "outputs": [],
     "prompt_number": 3
    },
    {
     "cell_type": "code",
     "collapsed": false,
     "input": [
      "# \uac1d\uccb4 \uc804\ud658\n",
      "soup = BS(r.text)\n",
      "# \ud14c\uc774\ube14\uc758 \ub9ac\uc2a4\ud2b8 \uac00\uc838\uc634 -> \uc544\uc774\ud15c \ucd94\ucd9c\n",
      "eles = soup.select(\"div.lgiTplList\")\n",
      "items = eles[0](\"tr\")"
     ],
     "language": "python",
     "metadata": {},
     "outputs": [],
     "prompt_number": 4
    },
    {
     "cell_type": "code",
     "collapsed": false,
     "input": [
      "a = getInfoItem(items[2])"
     ],
     "language": "python",
     "metadata": {},
     "outputs": [],
     "prompt_number": 143
    },
    {
     "cell_type": "heading",
     "level": 2,
     "metadata": {},
     "source": [
      "MongoDB Test"
     ]
    },
    {
     "cell_type": "code",
     "collapsed": false,
     "input": [
      "client = MongoClient()"
     ],
     "language": "python",
     "metadata": {},
     "outputs": [],
     "prompt_number": 132
    },
    {
     "cell_type": "code",
     "collapsed": false,
     "input": [
      "db = client['test_database']"
     ],
     "language": "python",
     "metadata": {},
     "outputs": [],
     "prompt_number": 133
    },
    {
     "cell_type": "code",
     "collapsed": false,
     "input": [
      "collection = db['test_collection']"
     ],
     "language": "python",
     "metadata": {},
     "outputs": [],
     "prompt_number": 136
    },
    {
     "cell_type": "code",
     "collapsed": false,
     "input": [
      "collection.insert(a)"
     ],
     "language": "python",
     "metadata": {},
     "outputs": [
      {
       "metadata": {},
       "output_type": "pyout",
       "prompt_number": 144,
       "text": [
        "ObjectId('54d4315e078b032710bcafdd')"
       ]
      }
     ],
     "prompt_number": 144
    },
    {
     "cell_type": "code",
     "collapsed": false,
     "input": [
      "client.disconnect()"
     ],
     "language": "python",
     "metadata": {},
     "outputs": [],
     "prompt_number": 145
    },
    {
     "cell_type": "code",
     "collapsed": false,
     "input": [],
     "language": "python",
     "metadata": {},
     "outputs": []
    }
   ],
   "metadata": {}
  }
 ]
}